{
 "cells": [
  {
   "cell_type": "code",
   "execution_count": 1,
   "metadata": {},
   "outputs": [],
   "source": [
    "import torch\n",
    "import torch.nn as nn\n",
    "import torch.optim as optim\n",
    "import torchvision.datasets as dsets\n",
    "import torchvision.transforms as transforms\n",
    "from torch.utils.data import DataLoader\n",
    "import torchvision.utils as vutils\n",
    "import matplotlib.pyplot as plt\n",
    "import os"
   ]
  },
  {
   "cell_type": "code",
   "execution_count": 2,
   "metadata": {},
   "outputs": [
    {
     "name": "stdout",
     "output_type": "stream",
     "text": [
      "True\n",
      "12.4\n",
      "2.4.1+cu124\n"
     ]
    }
   ],
   "source": [
    "print(torch.cuda.is_available())\n",
    "print(torch.version.cuda)\n",
    "print(torch.__version__)"
   ]
  },
  {
   "cell_type": "code",
   "execution_count": 3,
   "metadata": {},
   "outputs": [
    {
     "data": {
      "text/plain": [
       "'cuda'"
      ]
     },
     "execution_count": 3,
     "metadata": {},
     "output_type": "execute_result"
    }
   ],
   "source": [
    "device = 'cuda' if torch.cuda.is_available() else 'cpu'\n",
    "device"
   ]
  },
  {
   "cell_type": "code",
   "execution_count": 4,
   "metadata": {},
   "outputs": [],
   "source": [
    "numberofEpochs = 100\n",
    "batchSize = 32\n",
    "learningRateGenerator = 0.0002\n",
    "learningRateDiscriminator = 0.0002\n",
    "imageSize = 64"
   ]
  },
  {
   "cell_type": "code",
   "execution_count": 5,
   "metadata": {},
   "outputs": [
    {
     "name": "stdout",
     "output_type": "stream",
     "text": [
      "Files already downloaded and verified\n"
     ]
    }
   ],
   "source": [
    "transform = transforms.Compose([\n",
    "    transforms.Resize(64), \n",
    "    transforms.ToTensor(), \n",
    "    transforms.Normalize((0.5, 0.5, 0.5), (0.5, 0.5, 0.5))\n",
    "])\n",
    "\n",
    "dataset = dsets.CIFAR10(root='./data', download=True, transform=transform)\n",
    "dataloader = DataLoader(dataset, batch_size = batchSize, shuffle=True)"
   ]
  },
  {
   "cell_type": "code",
   "execution_count": 6,
   "metadata": {},
   "outputs": [],
   "source": [
    "class Generator(nn.Module):\n",
    "    def __init__(self):\n",
    "        super(Generator, self).__init__()\n",
    "        self.main = nn.Sequential(\n",
    "            nn.ConvTranspose2d(100, 512, 4, 1, 0, bias = False), \n",
    "            nn.BatchNorm2d(512), \n",
    "            nn.ReLU(True), \n",
    "\n",
    "            nn.ConvTranspose2d(512, 256, 4, 2, 1, bias = False), \n",
    "            nn.BatchNorm2d(256),\n",
    "            nn.ReLU(True),\n",
    "\n",
    "            nn.ConvTranspose2d(256, 128, 4, 2, 1, bias = False),\n",
    "            nn.BatchNorm2d(128), \n",
    "            nn.ReLU(True), \n",
    "\n",
    "            nn.ConvTranspose2d(128, 64, 4, 2, 1, bias = False), \n",
    "            nn.BatchNorm2d(64), \n",
    "            nn.ReLU(True),\n",
    "\n",
    "            nn.ConvTranspose2d(64, 3, 4, 2, 1, bias = False), \n",
    "            nn.Tanh()\n",
    "        )\n",
    "    \n",
    "    def forward(self, input):\n",
    "        return self.main(input)"
   ]
  },
  {
   "cell_type": "code",
   "execution_count": 7,
   "metadata": {},
   "outputs": [],
   "source": [
    "class Discriminator(nn.Module):\n",
    "    def __init__(self):\n",
    "        super(Discriminator, self).__init__()\n",
    "        self.main = nn.Sequential(\n",
    "            nn.Conv2d(3, 64, 4, 2, 1, bias = False), \n",
    "            nn.LeakyReLU(0.2, inplace = True), \n",
    "\n",
    "            nn.Conv2d(64, 128, 4, 2, 1, bias = False), \n",
    "            nn.BatchNorm2d(128),\n",
    "            nn.LeakyReLU(0.2, inplace = True), \n",
    "\n",
    "            nn.Conv2d(128, 256, 4, 2, 1, bias = False), \n",
    "            nn.BatchNorm2d(256), \n",
    "            nn.LeakyReLU(0.2, inplace = True),\n",
    "\n",
    "            nn.Conv2d(256, 512, 4, 2, 1, bias = False), \n",
    "            nn.BatchNorm2d(512), \n",
    "            nn.LeakyReLU(0.2, inplace = True), \n",
    "\n",
    "            nn.Conv2d(512, 1, 4, 1, 0, bias = False),\n",
    "            nn.Sigmoid()\n",
    "        )\n",
    "\n",
    "    def forward(self, input):\n",
    "        return self.main(input).view(-1)    "
   ]
  },
  {
   "cell_type": "code",
   "execution_count": 8,
   "metadata": {},
   "outputs": [],
   "source": [
    "discriminator = Discriminator().to(device)\n",
    "generator = Generator().to(device)"
   ]
  },
  {
   "cell_type": "code",
   "execution_count": 9,
   "metadata": {},
   "outputs": [],
   "source": [
    "criterion = nn.BCELoss()\n",
    "optimizerDiscriminator = optim.Adam(Discriminator().parameters(), lr = learningRateDiscriminator, betas = (0.5, 0.999))\n",
    "optimizerGenerator = optim.Adam(Generator().parameters(), lr = learningRateGenerator, betas = (0.5, 0.999))"
   ]
  },
  {
   "cell_type": "code",
   "execution_count": 10,
   "metadata": {},
   "outputs": [],
   "source": [
    "def GetGradientNorms(model):\n",
    "    totalNorm = 0\n",
    "    for p in model.parameters():\n",
    "        paramNorm = p.grad.data.norm(2)\n",
    "        totalNorm += paramNorm.item() ** 2\n",
    "    return totalNorm ** (1 / 2)\n",
    "\n",
    "generatorLosses = []\n",
    "discriminatorLosses = []\n",
    "generatorGradientNorms = []\n",
    "discriminatorGradientNorms = []"
   ]
  },
  {
   "cell_type": "code",
   "execution_count": 11,
   "metadata": {},
   "outputs": [
    {
     "data": {
      "text/plain": [
       "'d:\\\\Finally, A study Folder\\\\Thapar Summer School on Machine Learning and Deep Learning\\\\GAN\\\\DC-GAN\\\\FakeImages'"
      ]
     },
     "execution_count": 11,
     "metadata": {},
     "output_type": "execute_result"
    }
   ],
   "source": [
    "saveDir = os.path.join(os.getcwd(), \"FakeImages\")\n",
    "\n",
    "if not os.path.exists(saveDir):\n",
    "    os.makedirs(saveDir)\n",
    "\n",
    "saveDir\n"
   ]
  },
  {
   "cell_type": "code",
   "execution_count": 12,
   "metadata": {},
   "outputs": [
    {
     "name": "stdout",
     "output_type": "stream",
     "text": [
      "Epochs: 0, Generator Loss: 0.798235297203064, Discriminator Loss: 1.3464707136154175\n"
     ]
    },
    {
     "ename": "KeyboardInterrupt",
     "evalue": "",
     "output_type": "error",
     "traceback": [
      "\u001b[1;31m---------------------------------------------------------------------------\u001b[0m",
      "\u001b[1;31mKeyboardInterrupt\u001b[0m                         Traceback (most recent call last)",
      "Cell \u001b[1;32mIn[12], line 27\u001b[0m\n\u001b[0;32m     25\u001b[0m optimizerGenerator\u001b[38;5;241m.\u001b[39mzero_grad()\n\u001b[0;32m     26\u001b[0m output \u001b[38;5;241m=\u001b[39m discriminator(fakeImages)\u001b[38;5;241m.\u001b[39mview(\u001b[38;5;241m-\u001b[39m\u001b[38;5;241m1\u001b[39m)\n\u001b[1;32m---> 27\u001b[0m realLabels \u001b[38;5;241m=\u001b[39m \u001b[43mtorch\u001b[49m\u001b[38;5;241;43m.\u001b[39;49m\u001b[43mones\u001b[49m\u001b[43m(\u001b[49m\u001b[43moutput\u001b[49m\u001b[38;5;241;43m.\u001b[39;49m\u001b[43msize\u001b[49m\u001b[43m(\u001b[49m\u001b[43m)\u001b[49m\u001b[43m)\u001b[49m\u001b[38;5;241;43m.\u001b[39;49m\u001b[43mto\u001b[49m\u001b[43m(\u001b[49m\u001b[43mdevice\u001b[49m\u001b[43m)\u001b[49m\n\u001b[0;32m     28\u001b[0m generatorLoss \u001b[38;5;241m=\u001b[39m criterion(output, realLabels)\n\u001b[0;32m     29\u001b[0m generatorLoss\u001b[38;5;241m.\u001b[39mbackward()\n",
      "\u001b[1;31mKeyboardInterrupt\u001b[0m: "
     ]
    }
   ],
   "source": [
    "fixedNoise = torch.randn(batchSize, 100, 1, 1, device = device)\n",
    "\n",
    "for epochs in range(numberofEpochs):\n",
    "    for i, data in enumerate(dataloader, 0):\n",
    "        realImages, _ = data\n",
    "        realImages = realImages.to(device)\n",
    "\n",
    "        optimizerDiscriminator.zero_grad()\n",
    "        \n",
    "        output = discriminator(realImages).view(-1)\n",
    "        realLabels = torch.ones(output.size()).to(device)\n",
    "        realLoss = criterion(output, realLabels)\n",
    "        realLoss.backward()\n",
    "\n",
    "        noise = torch.randn(128, 100, 1, 1, device = device)\n",
    "        fakeImages = generator(noise)\n",
    "        output = discriminator(fakeImages.detach()).view(-1)\n",
    "        fakeLabels = torch.zeros(output.size()).to(device)\n",
    "        fakeLoss = criterion(output, fakeLabels)\n",
    "        fakeLoss.backward()\n",
    "        discriminatorGradientNorms.append(GetGradientNorms(discriminator))\n",
    "        discriminatorGradientNorm = GetGradientNorms(discriminator)\n",
    "        optimizerDiscriminator.step()\n",
    "\n",
    "        optimizerGenerator.zero_grad()\n",
    "        output = discriminator(fakeImages).view(-1)\n",
    "        realLabels = torch.ones(output.size()).to(device)\n",
    "        generatorLoss = criterion(output, realLabels)\n",
    "        generatorLoss.backward()\n",
    "        generatorGradientNorms.append(GetGradientNorms(generator))\n",
    "        generatorGradientNorm = GetGradientNorms(generator)\n",
    "        optimizerGenerator.step()\n",
    "\n",
    "        generatorLosses.append(generatorLoss.item())\n",
    "        discriminatorLosses.append(realLoss.item() + fakeLoss.item())\n",
    "        generatorGradientNorms.append(generatorGradientNorm)\n",
    "        discriminatorGradientNorms.append(discriminatorGradientNorm)\n",
    "\n",
    "    with torch.no_grad():\n",
    "        fake = generator(fixedNoise).detach().cpu()\n",
    "    vutils.save_image(fake, f\"{saveDir}/fake_{epochs+1}.png\", normalize = True)\n",
    "    print(f\"Epochs: {epochs}, Generator Loss: {generatorLoss}, Discriminator Loss: {realLoss + fakeLoss}\")\n",
    "\n",
    "\n",
    "    plt.figure(figsize=(12, 6))\n",
    "    plt.subplot(1, 2, 1)\n",
    "    plt.plot(generatorLosses, label='Generator')\n",
    "    plt.plot(discriminatorLosses, label='Discriminator')\n",
    "    plt.legend()\n",
    "    plt.title(f\"Epochs: {epochs}, G Loss: {generatorLosses[-1]:.4f}, D Loss: {discriminatorLosses[-1]:.4f}\")\n",
    "\n",
    "    plt.subplot(1, 2, 2)\n",
    "    plt.plot(generatorGradientNorms, label='Generator')\n",
    "    plt.plot(discriminatorGradientNorms, label='Discriminator')\n",
    "    plt.legend()\n",
    "    plt.title(\"Gradient Norms\")\n",
    "    plt.savefig(f\"{saveDir}/epoch_{epochs}.png\")\n",
    "    plt.close()"
   ]
  }
 ],
 "metadata": {
  "kernelspec": {
   "display_name": "Python 3",
   "language": "python",
   "name": "python3"
  },
  "language_info": {
   "codemirror_mode": {
    "name": "ipython",
    "version": 3
   },
   "file_extension": ".py",
   "mimetype": "text/x-python",
   "name": "python",
   "nbconvert_exporter": "python",
   "pygments_lexer": "ipython3",
   "version": "3.12.6"
  }
 },
 "nbformat": 4,
 "nbformat_minor": 2
}
